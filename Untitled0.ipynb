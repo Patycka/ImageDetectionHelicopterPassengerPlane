{
  "nbformat": 4,
  "nbformat_minor": 0,
  "metadata": {
    "colab": {
      "name": "Untitled0.ipynb",
      "provenance": [],
      "collapsed_sections": [],
      "toc_visible": true,
      "mount_file_id": "1kYXO5fUw3LbaObRb45ihe1T1yq5JuhDp",
      "authorship_tag": "ABX9TyPy+WKs6egSEYxH9uXtWZya",
      "include_colab_link": true
    },
    "kernelspec": {
      "name": "python3",
      "display_name": "Python 3"
    }
  },
  "cells": [
    {
      "cell_type": "markdown",
      "metadata": {
        "id": "view-in-github",
        "colab_type": "text"
      },
      "source": [
        "<a href=\"https://colab.research.google.com/github/Patycka/ImageDetectionHelicopterPassengerPlane/blob/master/Untitled0.ipynb\" target=\"_parent\"><img src=\"https://colab.research.google.com/assets/colab-badge.svg\" alt=\"Open In Colab\"/></a>"
      ]
    },
    {
      "cell_type": "code",
      "metadata": {
        "id": "9nUZygV5loki",
        "outputId": "9472964f-cf61-44af-d347-5d5db3eaad5c",
        "colab": {
          "base_uri": "https://localhost:8080/",
          "height": 339
        }
      },
      "source": [
        "# Update: Należy użyć biblioteki tensorflow w wersji 2.0\n",
        "!pip install gast==0.2.2\n",
        "!pip install -q tensorflow==2.0"
      ],
      "execution_count": 1,
      "outputs": [
        {
          "output_type": "stream",
          "text": [
            "Collecting gast==0.2.2\n",
            "  Downloading https://files.pythonhosted.org/packages/4e/35/11749bf99b2d4e3cceb4d55ca22590b0d7c2c62b9de38ac4a4a7f4687421/gast-0.2.2.tar.gz\n",
            "Building wheels for collected packages: gast\n",
            "  Building wheel for gast (setup.py) ... \u001b[?25l\u001b[?25hdone\n",
            "  Created wheel for gast: filename=gast-0.2.2-cp36-none-any.whl size=7542 sha256=0a0c3e3d10c64573bcfa392c40c85177016a86fe7dc64472fc40fa4698f2ea8d\n",
            "  Stored in directory: /root/.cache/pip/wheels/5c/2e/7e/a1d4d4fcebe6c381f378ce7743a3ced3699feb89bcfbdadadd\n",
            "Successfully built gast\n",
            "\u001b[31mERROR: tensorflow 2.3.0 has requirement gast==0.3.3, but you'll have gast 0.2.2 which is incompatible.\u001b[0m\n",
            "\u001b[31mERROR: tensorflow-probability 0.11.0 has requirement gast>=0.3.2, but you'll have gast 0.2.2 which is incompatible.\u001b[0m\n",
            "Installing collected packages: gast\n",
            "  Found existing installation: gast 0.3.3\n",
            "    Uninstalling gast-0.3.3:\n",
            "      Successfully uninstalled gast-0.3.3\n",
            "Successfully installed gast-0.2.2\n",
            "\u001b[K     |████████████████████████████████| 86.3MB 78kB/s \n",
            "\u001b[K     |████████████████████████████████| 3.8MB 47.5MB/s \n",
            "\u001b[K     |████████████████████████████████| 450kB 50.9MB/s \n",
            "\u001b[K     |████████████████████████████████| 51kB 6.3MB/s \n",
            "\u001b[?25h"
          ],
          "name": "stdout"
        }
      ]
    },
    {
      "cell_type": "code",
      "metadata": {
        "id": "2PtHttm-i6tr"
      },
      "source": [
        "import os\n",
        "import numpy as np\n",
        "import pandas as pd\n",
        "import matplotlib.pyplot as plt\n",
        "#copy files\n",
        "import shutil\n",
        "import plotly.graph_objects as go\n",
        "from sklearn.metrics import confusion_matrix, classification_report\n",
        "\n",
        "from tensorflow.keras.preprocessing import image\n",
        "#augmentation\n",
        "from tensorflow.keras.preprocessing.image import ImageDataGenerator\n",
        "from tensorflow.keras.models import Sequential\n",
        "from tensorflow.keras import layers\n",
        "from tensorflow.keras import optimizers\n",
        "from tensorflow.keras.callbacks import TensorBoard\n",
        "\n",
        "np.set_printoptions(precision=6, suppress=True)"
      ],
      "execution_count": 2,
      "outputs": []
    },
    {
      "cell_type": "markdown",
      "metadata": {
        "id": "hdupLNcSsYYO"
      },
      "source": [
        "# Get data\n"
      ]
    },
    {
      "cell_type": "code",
      "metadata": {
        "id": "sguT12FNsuQg",
        "outputId": "6105142b-3411-4874-be80-65ee0d6fc6c0",
        "colab": {
          "base_uri": "https://localhost:8080/",
          "height": 202
        }
      },
      "source": [
        "!wget https://storage.googleapis.com/esmartdata-courses-files/ann-course/flying-vehicles.zip\n",
        "!unzip -q flying-vehicles.zip"
      ],
      "execution_count": 3,
      "outputs": [
        {
          "output_type": "stream",
          "text": [
            "--2020-09-27 16:22:09--  https://storage.googleapis.com/esmartdata-courses-files/ann-course/flying-vehicles.zip\n",
            "Resolving storage.googleapis.com (storage.googleapis.com)... 74.125.203.128, 74.125.204.128, 64.233.188.128, ...\n",
            "Connecting to storage.googleapis.com (storage.googleapis.com)|74.125.203.128|:443... connected.\n",
            "HTTP request sent, awaiting response... 200 OK\n",
            "Length: 1540232238 (1.4G) [application/x-zip-compressed]\n",
            "Saving to: ‘flying-vehicles.zip’\n",
            "\n",
            "flying-vehicles.zip 100%[===================>]   1.43G  60.9MB/s    in 34s     \n",
            "\n",
            "2020-09-27 16:22:46 (43.2 MB/s) - ‘flying-vehicles.zip’ saved [1540232238/1540232238]\n",
            "\n"
          ],
          "name": "stdout"
        }
      ]
    },
    {
      "cell_type": "markdown",
      "metadata": {
        "id": "2QzNt6aHq2Ue"
      },
      "source": [
        "# Przygotowanie zbiorów: treningowego, walidacyjnego i testowego"
      ]
    },
    {
      "cell_type": "code",
      "metadata": {
        "id": "czl70tKboVWd"
      },
      "source": [
        "!rm -rf ./images"
      ],
      "execution_count": 4,
      "outputs": []
    },
    {
      "cell_type": "code",
      "metadata": {
        "id": "EyEslaTCubUU",
        "outputId": "355e8065-fba9-4f8c-a7c9-694e1602ec9e",
        "colab": {
          "base_uri": "https://localhost:8080/",
          "height": 34
        }
      },
      "source": [
        "base_dir = './data/planes'\n",
        "raw_no_of_files = {}\n",
        "classes = ['drone', 'fighter-jet', 'helicopter', 'missile', 'passenger-plane', 'rocket']\n",
        "for dir in classes:\n",
        "    raw_no_of_files[dir] = len(os.listdir(os.path.join(base_dir, dir)))\n",
        "\n",
        "raw_no_of_files.items()"
      ],
      "execution_count": 5,
      "outputs": [
        {
          "output_type": "execute_result",
          "data": {
            "text/plain": [
              "dict_items([('drone', 1332), ('fighter-jet', 1867), ('helicopter', 1387), ('missile', 1334), ('passenger-plane', 1424), ('rocket', 1186)])"
            ]
          },
          "metadata": {
            "tags": []
          },
          "execution_count": 5
        }
      ]
    },
    {
      "cell_type": "code",
      "metadata": {
        "id": "DDPxmg03wlSo"
      },
      "source": [
        "data_dir = './images'\n",
        "\n",
        "if not os.path.exists(data_dir):\n",
        "  os.mkdir(data_dir)\n",
        "\n",
        "train_dir = os.path.join(data_dir, 'train')\n",
        "valid_dir = os.path.join(data_dir, 'valid')\n",
        "test_dir = os.path.join(data_dir, 'test')\n",
        "\n",
        "train_helicopter_dir = os.path.join(train_dir, 'helicopter')\n",
        "valid_helicopter_dir = os.path.join(valid_dir, 'helicopter')\n",
        "test_helicopter_dir = os.path.join(test_dir, 'helicopter')\n",
        "\n",
        "train_passenger_plane_dir = os.path.join(train_dir, 'passenger_plane')\n",
        "valid_passenger_plane_dir = os.path.join(valid_dir, 'passenger_plane')\n",
        "test_passenger_plane_dir = os.path.join(test_dir, 'passenger_plane')\n",
        "\n",
        "dirs = [train_helicopter_dir, valid_helicopter_dir, test_helicopter_dir,\n",
        "        train_passenger_plane_dir, valid_passenger_plane_dir, test_passenger_plane_dir]\n",
        "\n",
        "for directory in (train_dir, valid_dir, test_dir):\n",
        "  if not os.path.exists(directory):\n",
        "    os.mkdir(directory)\n",
        "\n",
        "for directory in dirs:\n",
        "  if not os.path.exists(directory):\n",
        "    os.mkdir(directory)\n",
        "    "
      ],
      "execution_count": 6,
      "outputs": []
    },
    {
      "cell_type": "code",
      "metadata": {
        "id": "-ANHpuVC_LVN",
        "outputId": "f615604a-ced1-4859-82e7-aa1a12069a09",
        "colab": {
          "base_uri": "https://localhost:8080/",
          "height": 50
        }
      },
      "source": [
        "# list all files from directory helicopter and passenger-plane\n",
        "helicopter_fnames = os.listdir(os.path.join(base_dir, 'helicopter'))\n",
        "passenger_plane_fnames = os.listdir(os.path.join(base_dir, 'passenger-plane'))\n",
        "\n",
        "# choose only files with extension .jpg, .png and .jpeg\n",
        "# iterating through the list using list comprehension\n",
        "helicopter_fnames = [fname for fname in helicopter_fnames if fname.split('.')[1].lower() in ['jpg', 'png', 'jpeg']]\n",
        "passenger_plane_fnames = [fname for fname in passenger_plane_fnames if fname.split('.')[1].lower() in ['jpg', 'png', 'jpeg']]\n",
        "\n",
        "size = min(len(helicopter_fnames), len(passenger_plane_fnames))\n",
        "print(\"Common min amount of photos\")\n",
        "print(size)\n",
        "\n",
        "# func floor cuts off the fraction\n",
        "train_size = np.floor(0.7*size)\n",
        "valid_size = np.floor(0.2*size)\n",
        "test_size = size - train_size - valid_size\n",
        "\n",
        "train_end_idx = train_size\n",
        "valid_end_idx = train_end_idx + valid_size\n",
        "test_end_idx = valid_end_idx + test_size\n",
        "\n"
      ],
      "execution_count": 7,
      "outputs": [
        {
          "output_type": "stream",
          "text": [
            "Common min amount of photos\n",
            "1359\n"
          ],
          "name": "stdout"
        }
      ]
    },
    {
      "cell_type": "code",
      "metadata": {
        "id": "bNhRiyMX2FrO"
      },
      "source": [
        "# copy files from data to test, train and validation folders\n",
        "helicopter_original_dir = os.path.join(base_dir, 'helicopter')\n",
        "passenger_plane_original_dir = os.path.join(base_dir, 'passenger-plane')\n",
        "\n",
        "i=0\n",
        "for i, fname in enumerate(helicopter_fnames):\n",
        "  if i < train_end_idx:\n",
        "    shutil.copyfile(os.path.join(helicopter_original_dir, fname),\n",
        "                    os.path.join(train_helicopter_dir, fname))\n",
        "  elif i < valid_end_idx:\n",
        "    shutil.copyfile(os.path.join(helicopter_original_dir, fname), \n",
        "                    os.path.join(valid_helicopter_dir, fname))\n",
        "  else:\n",
        "    shutil.copyfile(os.path.join(helicopter_original_dir, fname), \n",
        "                    os.path.join(test_helicopter_dir, fname))\n",
        "    i = i+1\n",
        "\n",
        "i=0\n",
        "for i, fname in enumerate(passenger_plane_fnames):\n",
        "  if i < train_end_idx:\n",
        "    shutil.copyfile(os.path.join(passenger_plane_original_dir, fname), \n",
        "                    os.path.join(train_passenger_plane_dir, fname))\n",
        "  elif i < valid_end_idx:\n",
        "    shutil.copyfile(os.path.join(passenger_plane_original_dir, fname), \n",
        "                    os.path.join(valid_passenger_plane_dir, fname))\n",
        "  else:\n",
        "    shutil.copyfile(os.path.join(passenger_plane_original_dir, fname), \n",
        "                    os.path.join(test_passenger_plane_dir, fname))\n",
        "    i = i+1\n"
      ],
      "execution_count": 8,
      "outputs": []
    },
    {
      "cell_type": "code",
      "metadata": {
        "id": "tfIdDNq1hWEw",
        "outputId": "3e9525d2-d139-4637-dcbf-5820571852be",
        "colab": {
          "base_uri": "https://localhost:8080/",
          "height": 67
        }
      },
      "source": [
        "# print how many images is in train, test and validation folders\n",
        "print('Number of training images: ', len(os.listdir(train_helicopter_dir)))\n",
        "print('Number of validation images: ', len(os.listdir(valid_helicopter_dir)))\n",
        "print('Number of test images: ', len(os.listdir(test_helicopter_dir)))"
      ],
      "execution_count": 9,
      "outputs": [
        {
          "output_type": "stream",
          "text": [
            "Number of training images:  951\n",
            "Number of validation images:  271\n",
            "Number of test images:  137\n"
          ],
          "name": "stdout"
        }
      ]
    }
  ]
}